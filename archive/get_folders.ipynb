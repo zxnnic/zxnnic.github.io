{
 "cells": [
  {
   "cell_type": "code",
   "execution_count": 1,
   "id": "e8c77ec7",
   "metadata": {},
   "outputs": [
    {
     "name": "stdout",
     "output_type": "stream",
     "text": [
      "['blue_sky.jpeg', 'cherry_blossom.gif', 'dog1.gif', 'fall_korea_bg.webp', 'flower_divider.webp', 'flower_shower_heart.webp', 'fountain_bg.webp', 'fountain_night_bg.gif', 'happy_holidays_snowflake_glitter.gif', 'heart_avi.gif', 'jungle_bg.gif', 'me_computer.jpeg', 'picnic_avi.gif', 'shining_heart_flower.webp', 'snowfall.gif', 'spin_snowflake.gif', 'undersea_bg.webp', 'winter_avatar.gif']\n"
     ]
    }
   ],
   "source": [
    "import os\n",
    "\n",
    "files = os.listdir('images/random')\n",
    "print(files)"
   ]
  }
 ],
 "metadata": {
  "kernelspec": {
   "display_name": "Python 3",
   "language": "python",
   "name": "python3"
  },
  "language_info": {
   "codemirror_mode": {
    "name": "ipython",
    "version": 3
   },
   "file_extension": ".py",
   "mimetype": "text/x-python",
   "name": "python",
   "nbconvert_exporter": "python",
   "pygments_lexer": "ipython3",
   "version": "3.11.9"
  }
 },
 "nbformat": 4,
 "nbformat_minor": 5
}
